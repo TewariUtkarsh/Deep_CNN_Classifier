{
 "cells": [
  {
   "cell_type": "code",
   "execution_count": 1,
   "metadata": {},
   "outputs": [],
   "source": [
    "import tensorflow as tf\n",
    "import os\n",
    "\n",
    "os.chdir('..')\n",
    "\n",
    "# model_path = r'artifacts\\prepare_base_model\\base_model_updated.h5'\n",
    "\n",
    "# m = tf.keras.models.load_model(model_path)"
   ]
  },
  {
   "cell_type": "code",
   "execution_count": 2,
   "metadata": {},
   "outputs": [
    {
     "data": {
      "text/plain": [
       "'d:\\\\Full Stack Data Science\\\\Python Project\\\\DL\\\\Current Batch\\\\Deep_CNN_Classifier'"
      ]
     },
     "execution_count": 2,
     "metadata": {},
     "output_type": "execute_result"
    }
   ],
   "source": [
    "os.getcwd()"
   ]
  },
  {
   "cell_type": "code",
   "execution_count": 3,
   "metadata": {},
   "outputs": [],
   "source": [
    "from dataclasses import dataclass\n",
    "from pathlib import Path\n",
    "from box import ConfigBox\n",
    "\n",
    "@dataclass(frozen=True)\n",
    "class ModelEvaluationConfig:\n",
    "    trained_model_filepath: Path\n",
    "    test_data_dir: Path\n",
    "    params: ConfigBox\n",
    "    scores_filepath: Path\n",
    "    remote_server_uri: str\n",
    "    train_params: dict"
   ]
  },
  {
   "cell_type": "code",
   "execution_count": 5,
   "metadata": {},
   "outputs": [],
   "source": [
    "from DeepClassifier.constants import *\n",
    "from DeepClassifier.utils import *\n",
    "\n",
    "class ConfigurationManager:\n",
    "\n",
    "    def __init__(\n",
    "        self,\n",
    "        config_filepath: Path=CONFIG_FILEPATH,\n",
    "        params_filepath: Path=PARAMS_FILEPATH,\n",
    "    ):\n",
    "        self.config = read_yaml_file(config_filepath)\n",
    "        make_directories([self.config.root_artifact_dir])\n",
    "        self.params = read_yaml_file(params_filepath)\n",
    "\n",
    "    def get_model_evaluation_config(self) -> ModelEvaluationConfig:\n",
    "        model_evaluation_config_info = self.config.model_evaluation\n",
    "\n",
    "        model_evaluation_config = ModelEvaluationConfig(\n",
    "            trained_model_filepath=model_evaluation_config_info.trained_model_filepath,\n",
    "            test_data_dir=model_evaluation_config_info.test_data_dir,\n",
    "            scores_filepath=model_evaluation_config_info.scores_filepath,\n",
    "            remote_server_uri=model_evaluation_config_info.remote_server_uri,\n",
    "            params=self.params,\n",
    "            train_params=dict(model_evaluation_config_info.train_params)\n",
    "        )\n",
    "        return model_evaluation_config"
   ]
  },
  {
   "cell_type": "code",
   "execution_count": 6,
   "metadata": {},
   "outputs": [
    {
     "name": "stdout",
     "output_type": "stream",
     "text": [
      "ModelEvaluationConfig(trained_model_filepath='artifacts/model_training/model.h5', test_data_dir='artifacts/data_ingestion', params=ConfigBox({'AUGMENTATION': True, 'IMAGE_SHAPE': [224, 224, 3], 'BATCH_SIZE': 16, 'INCLUDE_TOP': False, 'EPOCHS': 1, 'CLASSES': 2, 'WEIGHTS': 'imagenet', 'LEARNING_RATE': 0.01}), scores_filepath='scores.json', remote_server_uri='https://dagshub.com/TewariUtkarsh/Deep_CNN_Classifier.mlflow', train_params={'epochs': 1})\n"
     ]
    }
   ],
   "source": [
    "c = ConfigurationManager()\n",
    "s = c.get_model_evaluation_config()\n",
    "print(s)"
   ]
  },
  {
   "cell_type": "code",
   "execution_count": 14,
   "metadata": {},
   "outputs": [],
   "source": [
    "# ModelEvaluation(s)"
   ]
  },
  {
   "cell_type": "code",
   "execution_count": 9,
   "metadata": {},
   "outputs": [],
   "source": [
    "import tensorflow as tf\n",
    "from pathlib import Path\n",
    "from DeepClassifier.utils import save_json\n",
    "from DeepClassifier.entity import ModelEvaluationConfig\n",
    "import mlflow\n",
    "import mlflow.tensorflow\n",
    "from urllib.parse import urlparse\n",
    "\n",
    "\n",
    "class ModelEvaluation:\n",
    "    def __init__(\n",
    "            self,\n",
    "            model_evaluation_config:ModelEvaluationConfig,\n",
    "\n",
    "        ):\n",
    "        self.model_evaluation_config = model_evaluation_config\n",
    "\n",
    "    def _get_valid_generator(self):\n",
    "        data_generator_kwargs = dict(\n",
    "            rescale=1/255.,\n",
    "            validation_split=0.30,\n",
    "        )\n",
    "\n",
    "        valid_generator = tf.keras.preprocessing.image.ImageDataGenerator(\n",
    "            **data_generator_kwargs\n",
    "        )\n",
    "\n",
    "        data_flow_kwargs = dict(\n",
    "            target_size=self.model_evaluation_config.params.IMAGE_SHAPE[:-1],\n",
    "            batch_size=self.model_evaluation_config.params.BATCH_SIZE,\n",
    "            interpolation='bilinear'\n",
    "        )\n",
    "\n",
    "\n",
    "        self.valid_data_generator =valid_generator.flow_from_directory(\n",
    "            self.model_evaluation_config.test_data_dir,\n",
    "            subset='validation',\n",
    "            shuffle=False,\n",
    "            **data_flow_kwargs\n",
    "        )\n",
    "\n",
    "        \n",
    "    @staticmethod\n",
    "    def load_model(path:Path) -> tf.keras.Model:\n",
    "        return tf.keras.models.load_model(path)\n",
    "\n",
    "\n",
    "    def evaluate(self):\n",
    "        self._get_valid_generator()\n",
    "        self.model = self.load_model(path=Path(self.model_evaluation_config.trained_model_filepath))\n",
    "        self.scores = self.model.evaluate(self.valid_data_generator)\n",
    "        self.save_scores()\n",
    "\n",
    "    def save_scores(self):\n",
    "        self.scores = {\"loss\": self.scores[0], \"accuracy\": self.scores[1]}\n",
    "        save_json(path=Path(self.model_evaluation_config.scores_filepath),data=self.scores)\n",
    "        \n",
    "    def log_into_mlflow(self):\n",
    "\n",
    "        os.environ['MLFLOW_TRACKING_URI'] = 'https://dagshub.com/TewariUtkarsh/Deep_CNN_Classifier.mlflow'\n",
    "        os.environ['MLFLOW_TRACKING_USERNAME'] = 'TewariUtkarsh'\n",
    "        os.environ['MLFLOW_TRACKING_PASSWORD'] = 'd7f92dada13480fbb4d1cabdef4818878fa0fc28'\n",
    "        \n",
    "        mlflow.set_tracking_uri(self.model_evaluation_config.remote_server_uri)\n",
    "        \n",
    "        tracking_uri_type_store = urlparse(mlflow.get_tracking_uri()).scheme\n",
    "        \n",
    "        with mlflow.start_run(): \n",
    "            mlflow.log_metrics(\n",
    "                self.scores\n",
    "            )\n",
    "\n",
    "            mlflow.log_params(\n",
    "                self.model_evaluation_config.train_params\n",
    "            )\n",
    "\n",
    "            \n",
    "            if tracking_uri_type_store != 'file':\n",
    "                mlflow.keras.log_model(\n",
    "                    self.model,\n",
    "                    'saved_model',\n",
    "                    registered_model_name='VGG16Model'\n",
    "                )\n",
    "            else:\n",
    "                mlflow.keras.log_model(\n",
    "                    self.model,\n",
    "                    'save_model'\n",
    "                )\n",
    "\n",
    "        "
   ]
  },
  {
   "cell_type": "code",
   "execution_count": 10,
   "metadata": {},
   "outputs": [
    {
     "name": "stdout",
     "output_type": "stream",
     "text": [
      "Found 7499 images belonging to 1 classes.\n",
      "469/469 [==============================] - 116s 246ms/step - loss: 17.4278 - accuracy: 0.4618\n",
      "INFO:tensorflow:Assets written to: C:\\Users\\DJ\\AppData\\Local\\Temp\\tmplurkp_ba\\model\\data\\model\\assets\n"
     ]
    },
    {
     "name": "stderr",
     "output_type": "stream",
     "text": [
      "Successfully registered model ''.\n",
      "2022/10/21 18:03:49 INFO mlflow.tracking._model_registry.client: Waiting up to 300 seconds for model version to finish creation.                     Model name: VGG16Model, version 3\n",
      "Created version '3' of model 'VGG16Model'.\n"
     ]
    }
   ],
   "source": [
    "try:\n",
    "    config = ConfigurationManager()\n",
    "    # model_evaluation_config = config.get_model_evaluation_config()\n",
    "    model_evaluation = ModelEvaluation(s)\n",
    "    model_evaluation.evaluate()\n",
    "    model_evaluation.log_into_mlflow()\n",
    "except Exception as e:\n",
    "    raise e"
   ]
  },
  {
   "cell_type": "code",
   "execution_count": null,
   "metadata": {},
   "outputs": [],
   "source": []
  }
 ],
 "metadata": {
  "kernelspec": {
   "display_name": "Python 3.8.13 (conda)",
   "language": "python",
   "name": "python3"
  },
  "language_info": {
   "codemirror_mode": {
    "name": "ipython",
    "version": 3
   },
   "file_extension": ".py",
   "mimetype": "text/x-python",
   "name": "python",
   "nbconvert_exporter": "python",
   "pygments_lexer": "ipython3",
   "version": "3.8.13"
  },
  "orig_nbformat": 4,
  "vscode": {
   "interpreter": {
    "hash": "ae74435513c2e0bf983a5f843fc5bc6ce365fc4d9d78e83d3e0b648a790172b2"
   }
  }
 },
 "nbformat": 4,
 "nbformat_minor": 2
}
