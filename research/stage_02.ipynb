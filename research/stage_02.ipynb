{
 "cells": [
  {
   "cell_type": "markdown",
   "metadata": {},
   "source": [
    "# Base Model Creation"
   ]
  },
  {
   "cell_type": "code",
   "execution_count": 1,
   "metadata": {},
   "outputs": [],
   "source": [
    "from dataclasses import dataclass\n",
    "from pathlib import Path\n",
    "from box import ConfigBox\n",
    "\n",
    "@dataclass(frozen=True)\n",
    "class PrepareBaseModelConfig:\n",
    "    artifact_dir:Path\n",
    "    params:ConfigBox\n",
    "    base_model_path:Path\n",
    "    updated_base_model_path:Path"
   ]
  },
  {
   "cell_type": "code",
   "execution_count": 2,
   "metadata": {},
   "outputs": [],
   "source": [
    "from DeepClassifier.constants import CONFIG_FILEPATH, PARAMS_FILEPATH\n",
    "from DeepClassifier.utils import read_yaml_file, make_directories\n",
    "from pathlib import Path\n",
    "from DeepClassifier.entity import DataIngestionConfig\n",
    "\n",
    "class ConfigurationManager:\n",
    "    def __init__(\n",
    "            self,\n",
    "            config_filepath:Path=CONFIG_FILEPATH,\n",
    "            param_filepath:Path=PARAMS_FILEPATH,\n",
    "        ):\n",
    "        self.config = read_yaml_file(config_filepath)\n",
    "        self.param = read_yaml_file(param_filepath)\n",
    "        \n",
    "        make_directories([self.config.root_artifact_dir])\n",
    "\n",
    "    def get_data_ingestion_config(self) -> DataIngestionConfig:\n",
    "        data_ingestion_config_info = self.config.data_ingestion\n",
    "        \n",
    "        artifact_dir = data_ingestion_config_info.artifact_dir\n",
    "\n",
    "        make_directories([artifact_dir])\n",
    "\n",
    "        data_ingestion_config = DataIngestionConfig(\n",
    "                                    artifact_dir=artifact_dir,\n",
    "                                    source_download_url=data_ingestion_config_info.source_download_url,\n",
    "                                    downloaded_data_file_path=data_ingestion_config_info.downloaded_data_file_path,\n",
    "                                    unzipped_data_dir=data_ingestion_config_info.unzipped_data_dir\n",
    "                                )\n",
    "\n",
    "        return data_ingestion_config\n",
    "\n",
    "\n",
    "    def get_prepare_base_model_config(self) -> PrepareBaseModelConfig:\n",
    "        prepare_base_model_config_info = self.config.prepare_base_model\n",
    "\n",
    "        artifact_dir = prepare_base_model_config_info.artifact_dir\n",
    "\n",
    "        make_directories([artifact_dir])\n",
    "\n",
    "        prepare_base_model_config = PrepareBaseModelConfig(\n",
    "                                        artifact_dir=Path(artifact_dir),\n",
    "                                        params=self.param,\n",
    "                                        base_model_path=Path(prepare_base_model_config_info.base_model_path),\n",
    "                                        updated_base_model_path=Path(prepare_base_model_config_info.updated_base_model_path)\n",
    "                                    )\n",
    "\n",
    "        return prepare_base_model_config\n",
    "\n"
   ]
  },
  {
   "cell_type": "code",
   "execution_count": 3,
   "metadata": {},
   "outputs": [],
   "source": [
    "import tensorflow as tf\n",
    "from DeepClassifier.utils import read_yaml_file\n",
    "\n",
    "class PrepareBaseModel:\n",
    "    def __init__(self, config=PrepareBaseModelConfig) -> None:\n",
    "        self.config=config\n",
    "\n",
    "    \n",
    "    @staticmethod\n",
    "    def save_model(path:Path, model:tf.keras.Model):\n",
    "        model.save(path)\n",
    "\n",
    "    def get_base_model(self):\n",
    "        self.base_model = tf.keras.applications.vgg16.VGG16(\n",
    "                            input_shape=self.config.params.IMAGE_SHAPE,\n",
    "                            include_top=self.config.params.INCLUDE_TOP,\n",
    "                            weights=self.config.params.WEIGHTS\n",
    "                        )\n",
    "\n",
    "        base_model_path = self.config.base_model_path        \n",
    "\n",
    "        self.save_model(base_model_path, self.base_model)\n",
    "\n",
    "    \n",
    "    @staticmethod\n",
    "    def _prepare_full_model(base_model, classes, freeze_all, freeze_till, learning_rate) -> tf.keras.models.Model:\n",
    "        if freeze_all:\n",
    "            for layer in base_model.layers:\n",
    "                layer.trainable = False\n",
    "\n",
    "        elif (freeze_till is not None) and (freeze_till > 0):\n",
    "            for layer in base_model.layers[:-freeze_till]:\n",
    "                layer.trainable = False\n",
    "\n",
    "        flatten_layer = tf.keras.layers.Flatten()(base_model.output)\n",
    "        prediction = tf.keras.layers.Dense(\n",
    "            units=classes,\n",
    "            activation='softmax'\n",
    "        )(flatten_layer)\n",
    "\n",
    "        full_model = tf.keras.models.Model(\n",
    "            inputs=base_model.input,\n",
    "            outputs=prediction\n",
    "        )\n",
    "\n",
    "        full_model.compile(\n",
    "            loss=tf.keras.losses.CategoricalCrossentropy(),\n",
    "            optimizer=tf.keras.optimizers.SGD(learning_rate=learning_rate),\n",
    "            metrics=['accuracy']\n",
    "        )\n",
    "\n",
    "        return full_model\n",
    "\n",
    "\n",
    "    def update_base_model(self):\n",
    "        self.final_model = self._prepare_full_model(\n",
    "                                base_model=self.base_model,\n",
    "                                classes=self.config.params.CLASSES,\n",
    "                                freeze_all=True,\n",
    "                                freeze_till=None,\n",
    "                                learning_rate=self.config.params.LEARNING_RATE\n",
    "                            )\n",
    "\n",
    "        \n",
    "        self.save_model(self.config.updated_base_model_path, self.final_model)\n",
    "\n",
    "\n",
    "\n",
    "\n",
    "\n"
   ]
  },
  {
   "cell_type": "code",
   "execution_count": 4,
   "metadata": {},
   "outputs": [
    {
     "data": {
      "text/plain": [
       "'d:\\\\Full Stack Data Science\\\\Python Project\\\\DL\\\\Current Batch\\\\Deep_CNN_Classifier'"
      ]
     },
     "execution_count": 4,
     "metadata": {},
     "output_type": "execute_result"
    }
   ],
   "source": [
    "import os\n",
    "os.chdir('..')\n",
    "os.getcwd()"
   ]
  },
  {
   "cell_type": "code",
   "execution_count": 5,
   "metadata": {},
   "outputs": [],
   "source": [
    "try:\n",
    "    config= ConfigurationManager()\n",
    "    prepare_base_model_config=config.get_prepare_base_model_config()\n",
    "    prepare_base_model= PrepareBaseModel(prepare_base_model_config)\n",
    "    prepare_base_model.get_base_model()\n",
    "    prepare_base_model.update_base_model()\n",
    "except Exception as e:\n",
    "    raise (e)"
   ]
  },
  {
   "cell_type": "code",
   "execution_count": 6,
   "metadata": {},
   "outputs": [
    {
     "name": "stdout",
     "output_type": "stream",
     "text": [
      "Model: \"model\"\n",
      "_________________________________________________________________\n",
      " Layer (type)                Output Shape              Param #   \n",
      "=================================================================\n",
      " input_1 (InputLayer)        [(None, 224, 224, 3)]     0         \n",
      "                                                                 \n",
      " block1_conv1 (Conv2D)       (None, 224, 224, 64)      1792      \n",
      "                                                                 \n",
      " block1_conv2 (Conv2D)       (None, 224, 224, 64)      36928     \n",
      "                                                                 \n",
      " block1_pool (MaxPooling2D)  (None, 112, 112, 64)      0         \n",
      "                                                                 \n",
      " block2_conv1 (Conv2D)       (None, 112, 112, 128)     73856     \n",
      "                                                                 \n",
      " block2_conv2 (Conv2D)       (None, 112, 112, 128)     147584    \n",
      "                                                                 \n",
      " block2_pool (MaxPooling2D)  (None, 56, 56, 128)       0         \n",
      "                                                                 \n",
      " block3_conv1 (Conv2D)       (None, 56, 56, 256)       295168    \n",
      "                                                                 \n",
      " block3_conv2 (Conv2D)       (None, 56, 56, 256)       590080    \n",
      "                                                                 \n",
      " block3_conv3 (Conv2D)       (None, 56, 56, 256)       590080    \n",
      "                                                                 \n",
      " block3_pool (MaxPooling2D)  (None, 28, 28, 256)       0         \n",
      "                                                                 \n",
      " block4_conv1 (Conv2D)       (None, 28, 28, 512)       1180160   \n",
      "                                                                 \n",
      " block4_conv2 (Conv2D)       (None, 28, 28, 512)       2359808   \n",
      "                                                                 \n",
      " block4_conv3 (Conv2D)       (None, 28, 28, 512)       2359808   \n",
      "                                                                 \n",
      " block4_pool (MaxPooling2D)  (None, 14, 14, 512)       0         \n",
      "                                                                 \n",
      " block5_conv1 (Conv2D)       (None, 14, 14, 512)       2359808   \n",
      "                                                                 \n",
      " block5_conv2 (Conv2D)       (None, 14, 14, 512)       2359808   \n",
      "                                                                 \n",
      " block5_conv3 (Conv2D)       (None, 14, 14, 512)       2359808   \n",
      "                                                                 \n",
      " block5_pool (MaxPooling2D)  (None, 7, 7, 512)         0         \n",
      "                                                                 \n",
      " flatten (Flatten)           (None, 25088)             0         \n",
      "                                                                 \n",
      " dense (Dense)               (None, 2)                 50178     \n",
      "                                                                 \n",
      "=================================================================\n",
      "Total params: 14,764,866\n",
      "Trainable params: 50,178\n",
      "Non-trainable params: 14,714,688\n",
      "_________________________________________________________________\n"
     ]
    }
   ],
   "source": [
    "m = tf.keras.models.load_model(r'D:\\Full Stack Data Science\\Python Project\\DL\\Current Batch\\Deep_CNN_Classifier\\artifacts\\prepare_base_model\\base_model_updated.h5')\n",
    "m.summary()"
   ]
  },
  {
   "cell_type": "code",
   "execution_count": null,
   "metadata": {},
   "outputs": [],
   "source": []
  }
 ],
 "metadata": {
  "kernelspec": {
   "display_name": "Python 3.8.13 (conda)",
   "language": "python",
   "name": "python3"
  },
  "language_info": {
   "codemirror_mode": {
    "name": "ipython",
    "version": 3
   },
   "file_extension": ".py",
   "mimetype": "text/x-python",
   "name": "python",
   "nbconvert_exporter": "python",
   "pygments_lexer": "ipython3",
   "version": "3.8.13"
  },
  "orig_nbformat": 4,
  "vscode": {
   "interpreter": {
    "hash": "ae74435513c2e0bf983a5f843fc5bc6ce365fc4d9d78e83d3e0b648a790172b2"
   }
  }
 },
 "nbformat": 4,
 "nbformat_minor": 2
}
