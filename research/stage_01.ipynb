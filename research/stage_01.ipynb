{
 "cells": [
  {
   "cell_type": "code",
   "execution_count": 4,
   "metadata": {},
   "outputs": [],
   "source": [
    "from collections import namedtuple\n",
    "\n",
    "DataIngestionConfig= namedtuple(\"DataIngestionConfig\",[\n",
    "    \"artifact_dir\", \"source_download_url\", \"downloaded_data_file_path\", \"unzipped_data_dir\"\n",
    "])"
   ]
  },
  {
   "cell_type": "code",
   "execution_count": 1,
   "metadata": {},
   "outputs": [],
   "source": [
    "from typing import List\n",
    "from dataclasses import dataclass\n",
    "from pathlib import Path\n",
    "\n",
    "@dataclass(frozen=True)\n",
    "class DataIngestionConfig:\n",
    "    artifact_dir:Path\n",
    "    source_download_url:str\n",
    "    downloaded_data_file_path:Path\n",
    "    unzipped_data_dir:Path"
   ]
  },
  {
   "cell_type": "code",
   "execution_count": 2,
   "metadata": {},
   "outputs": [],
   "source": [
    "from pathlib import Path\n",
    "from DeepClassifier.constants import *\n",
    "from DeepClassifier.utils import read_yaml_file, make_directories\n",
    "\n",
    "class ConfigurationManager:\n",
    "\n",
    "    def __init__(self, \n",
    "                config_filepath:Path=CONFIG_FILEPATH,\n",
    "                params_filepath:Path=PARAMS_FILEPATH\n",
    "                ) -> None:\n",
    "        self.config= read_yaml_file(filepath=config_filepath)\n",
    "        self.params= read_yaml_file(filepath=params_filepath)\n",
    "\n",
    "        dir_to_be_created= [self.config.root_artifact_dir,]\n",
    "        make_directories(dir_to_be_created)\n",
    "\n",
    "    \n",
    "    def get_data_ingestion_config(self) -> DataIngestionConfig:\n",
    "        \n",
    "        data_ingestion_config_info= self.config.data_ingestion\n",
    "\n",
    "        make_directories([data_ingestion_config_info.artifact_dir])\n",
    "\n",
    "        data_ingestion_config= DataIngestionConfig(\n",
    "            artifact_dir= data_ingestion_config_info.artifact_dir,\n",
    "            source_download_url= data_ingestion_config_info.source_download_url,\n",
    "            downloaded_data_file_path= data_ingestion_config_info.downloaded_data_file_path,\n",
    "            unzipped_data_dir= data_ingestion_config_info.unzipped_data_dir\n",
    "        )\n",
    "\n",
    "        return data_ingestion_config"
   ]
  },
  {
   "cell_type": "code",
   "execution_count": 3,
   "metadata": {},
   "outputs": [],
   "source": [
    "import os\n",
    "import urllib.request as request\n",
    "from zipfile import ZipFile\n",
    "from typing import List\n",
    "from DeepClassifier import logger\n",
    "\n",
    "class DataIngestion:\n",
    "    def __init__(self, config:DataIngestionConfig):\n",
    "        self.config= config\n",
    "\n",
    "    def download_data(self):\n",
    "        \"\"\"\n",
    "        This function downloads data from the url to the desired location.\n",
    "        \"\"\"\n",
    "        if not os.path.exists(self.config.downloaded_data_file_path):\n",
    "            filepath, httpmessage= request.urlretrieve(\n",
    "                url= self.config.source_download_url, \n",
    "                filename=self.config.downloaded_data_file_path\n",
    "            )\n",
    "\n",
    "    def _get_updated_list_of_files(self, list_of_files:List) -> List:\n",
    "        updated_list_of_files= [file for file in list_of_files if file.endswith('.jpg') and ('Cat' in file or 'Dog' in file)]\n",
    "        return updated_list_of_files\n",
    "\n",
    "\n",
    "    def _preprocess(self, zf:ZipFile, f:str, dir:str):\n",
    "        target_file_path= os.path.join(dir, f)\n",
    "\n",
    "        if not os.path.exists(target_file_path):\n",
    "            zf.extract(f, dir)\n",
    "\n",
    "        if os.path.getsize(target_file_path)==0:\n",
    "            os.remove(target_file_path)\n",
    "\n",
    "\n",
    "    def unzip_and_clean_data(self):\n",
    "        \"\"\" \n",
    "        This function performs a validity check on the files:\n",
    "        1. Extract those files which end with .jpg ext.\n",
    "        2. Remove those extracted files which have a file size of 0.\n",
    "        \"\"\"\n",
    "        with ZipFile(file=self.config.downloaded_data_file_path, mode='r') as file_obj:\n",
    "            list_of_files= file_obj.namelist()\n",
    "            updated_list_of_files= self._get_updated_list_of_files(list_of_files=list_of_files)\n",
    "\n",
    "            for file in updated_list_of_files:\n",
    "                self._preprocess(file_obj, file, self.config.unzipped_data_dir)\n",
    "\n",
    "\n",
    "\n",
    "    def __del__(self):\n",
    "        logger.info('Data Ingestion Stage Completed')\n",
    "\n",
    "\n",
    "\n",
    "\n"
   ]
  },
  {
   "cell_type": "code",
   "execution_count": 4,
   "metadata": {},
   "outputs": [
    {
     "data": {
      "text/plain": [
       "'d:\\\\Full Stack Data Science\\\\Python Project\\\\DL\\\\Current Batch\\\\Deep_CNN_Classifier'"
      ]
     },
     "execution_count": 4,
     "metadata": {},
     "output_type": "execute_result"
    }
   ],
   "source": [
    "os.chdir('..')\n",
    "os.getcwd()"
   ]
  },
  {
   "cell_type": "code",
   "execution_count": 5,
   "metadata": {},
   "outputs": [
    {
     "name": "stdout",
     "output_type": "stream",
     "text": [
      "[2022-10-18 13:12:41,217: INFO: common]: Loaded the content from configs\\config.yaml successfully\n",
      "[2022-10-18 13:12:41,220: INFO: common]: Loaded the content from params.yaml successfully\n",
      "[2022-10-18 13:12:41,222: INFO: common]: artifacts created successfully.\n",
      "[2022-10-18 13:12:41,225: INFO: common]: artifacts/data_ingestion created successfully.\n"
     ]
    }
   ],
   "source": [
    "try:\n",
    "    \n",
    "    config= ConfigurationManager()\n",
    "    d=config.get_data_ingestion_config()\n",
    "    d_ing= DataIngestion(d)\n",
    "    d_ing.download_data()\n",
    "    d_ing.unzip_and_clean_data()\n",
    "except Exception as e:\n",
    "    raise (e)"
   ]
  },
  {
   "cell_type": "code",
   "execution_count": 6,
   "metadata": {},
   "outputs": [
    {
     "name": "stdout",
     "output_type": "stream",
     "text": [
      "[2022-10-18 13:12:52,108: INFO: 2843173021]: hello\n"
     ]
    }
   ],
   "source": [
    "from DeepClassifier import logger\n",
    "logger.info('hello')"
   ]
  },
  {
   "cell_type": "code",
   "execution_count": null,
   "metadata": {},
   "outputs": [],
   "source": []
  },
  {
   "cell_type": "code",
   "execution_count": null,
   "metadata": {},
   "outputs": [],
   "source": [
    "# Data Cleaning:\n",
    "## 1. Unwanted pdf files in root dir\n",
    "## 2. Files of different format inside images folder \n",
    "## 3. Image file with 0 kb size.\n",
    "\n",
    "## check namelist output"
   ]
  },
  {
   "cell_type": "code",
   "execution_count": null,
   "metadata": {},
   "outputs": [],
   "source": [
    "from zipfile import ZipFile\n",
    "\n",
    "with ZipFile('kagglecatsanddogs_5340.zip', 'r') as f:\n",
    "    x= f.namelist()\n",
    "\n",
    "[print(i) for i in x if i.endswith('.jpg')]\n",
    "    # print(f)\n"
   ]
  },
  {
   "cell_type": "code",
   "execution_count": 1,
   "metadata": {},
   "outputs": [
    {
     "data": {
      "text/plain": [
       "True"
      ]
     },
     "execution_count": 1,
     "metadata": {},
     "output_type": "execute_result"
    }
   ],
   "source": [
    "s= 'txt/txt.txt'\n",
    "s.endswith('txt')"
   ]
  },
  {
   "cell_type": "code",
   "execution_count": null,
   "metadata": {},
   "outputs": [],
   "source": []
  }
 ],
 "metadata": {
  "kernelspec": {
   "display_name": "Python 3.8.13 (conda)",
   "language": "python",
   "name": "python3"
  },
  "language_info": {
   "codemirror_mode": {
    "name": "ipython",
    "version": 3
   },
   "file_extension": ".py",
   "mimetype": "text/x-python",
   "name": "python",
   "nbconvert_exporter": "python",
   "pygments_lexer": "ipython3",
   "version": "3.8.13"
  },
  "orig_nbformat": 4,
  "vscode": {
   "interpreter": {
    "hash": "ae74435513c2e0bf983a5f843fc5bc6ce365fc4d9d78e83d3e0b648a790172b2"
   }
  }
 },
 "nbformat": 4,
 "nbformat_minor": 2
}
