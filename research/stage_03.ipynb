{
 "cells": [
  {
   "cell_type": "code",
   "execution_count": 11,
   "metadata": {},
   "outputs": [],
   "source": [
    "import os\n",
    "os.chdir('..')"
   ]
  },
  {
   "cell_type": "code",
   "execution_count": 12,
   "metadata": {},
   "outputs": [],
   "source": [
    "from dataclasses import dataclass\n",
    "from pathlib import Path\n",
    "\n",
    "@dataclass(frozen=True)\n",
    "class PrepareCallbacksConfig:\n",
    "    artifact_dir:Path\n",
    "    tensorboard_log_dir:Path\n",
    "    checkpoint_model_filepath:Path"
   ]
  },
  {
   "cell_type": "code",
   "execution_count": 13,
   "metadata": {},
   "outputs": [],
   "source": [
    "from pathlib import Path\n",
    "from DeepClassifier.utils import read_yaml_file, make_directories\n",
    "from DeepClassifier.constants import *\n",
    "# from DeepClassifier.entity import PrepareCallbacksConfig\n",
    "\n",
    "class ConfigurationManager:\n",
    "    def __init__(\n",
    "            self,\n",
    "            config_filepath:Path=CONFIG_FILEPATH,\n",
    "            params_filepath:Path=PARAMS_FILEPATH\n",
    "        ) -> None:\n",
    "        self.config = read_yaml_file(config_filepath)\n",
    "        make_directories([self.config.root_artifact_dir])\n",
    "        self.params = read_yaml_file(params_filepath)\n",
    "\n",
    "    def get_prepare_callbacks_config(self) -> PrepareCallbacksConfig:\n",
    "        prepare_callbacks_config_info = self.config.prepare_callbacks\n",
    "\n",
    "        make_directories([\n",
    "                Path(prepare_callbacks_config_info.artifact_dir),\n",
    "                Path(prepare_callbacks_config_info.tensorboard_log_dir),\n",
    "                Path(os.path.dirname(prepare_callbacks_config_info.checkpoint_model_filepath))\n",
    "            ])\n",
    "\n",
    "        prepare_callbacks_config = PrepareCallbacksConfig(\n",
    "                                        artifact_dir=Path(prepare_callbacks_config_info.artifact_dir),\n",
    "                                        tensorboard_log_dir=Path(prepare_callbacks_config_info.tensorboard_log_dir),\n",
    "                                        checkpoint_model_filepath=Path(prepare_callbacks_config_info.checkpoint_model_filepath)\n",
    "                                    )\n",
    "\n",
    "        return prepare_callbacks_config\n"
   ]
  },
  {
   "cell_type": "code",
   "execution_count": 14,
   "metadata": {},
   "outputs": [],
   "source": [
    "# from DeepClassifier.entity import PrepareCallbacksConfig\n",
    "import tensorflow as tf\n",
    "import time\n",
    "\n",
    "class PrepareCallbacks:\n",
    "    def __init__(self, config:PrepareCallbacksConfig) -> None:\n",
    "        self.config = config\n",
    "\n",
    "    \n",
    "    @property\n",
    "    def _create_tb_callbacks(self):\n",
    "        timestamp = time.strftime(\"%Y-%m-%d-%H-%M-%S\")\n",
    "        log_dir = os.path.join(\n",
    "            self.config.tensorboard_log_dir, \n",
    "            f\"tb_logs_at_timestamp\"\n",
    "        )\n",
    "        return tf.keras.callbacks.TensorBoard(log_dir=log_dir)\n",
    "\n",
    "\n",
    "    @property\n",
    "    def _create_ckpt_callbacks(self):\n",
    "        # timestamp = time.strftime(\"\")\n",
    "        return tf.keras.callbacks.ModelCheckpoint(\n",
    "            filepath=self.config.checkpoint_model_filepath,\n",
    "            save_best_only=True,\n",
    "            mode='auto'\n",
    "        )\n",
    "\n",
    "    @property\n",
    "    def _create_early_stopping_callbacks(self):\n",
    "        return tf.keras.callbacks.EarlyStopping(\n",
    "            monitor='val_loss',\n",
    "            mode='auto',\n",
    "            patience=10,\n",
    "            restore_best_weights=True\n",
    "        )\n",
    "\n",
    "    def get_callbacks(self) -> list:\n",
    "        callbacks = [\n",
    "            self._create_tb_callbacks,\n",
    "            self._create_ckpt_callbacks\n",
    "        ]\n",
    "\n",
    "        return callbacks"
   ]
  },
  {
   "cell_type": "code",
   "execution_count": 15,
   "metadata": {},
   "outputs": [
    {
     "ename": "FileNotFoundError",
     "evalue": "[Errno 2] No such file or directory: 'configs\\\\config.yaml'",
     "output_type": "error",
     "traceback": [
      "\u001b[1;31m---------------------------------------------------------------------------\u001b[0m",
      "\u001b[1;31mFileNotFoundError\u001b[0m                         Traceback (most recent call last)",
      "Cell \u001b[1;32mIn [15], line 7\u001b[0m\n\u001b[0;32m      5\u001b[0m     prepare_callbacks\u001b[39m.\u001b[39mget_callbacks()\n\u001b[0;32m      6\u001b[0m \u001b[39mexcept\u001b[39;00m \u001b[39mException\u001b[39;00m \u001b[39mas\u001b[39;00m e:\n\u001b[1;32m----> 7\u001b[0m     \u001b[39mraise\u001b[39;00m e\n",
      "Cell \u001b[1;32mIn [15], line 2\u001b[0m\n\u001b[0;32m      1\u001b[0m \u001b[39mtry\u001b[39;00m:\n\u001b[1;32m----> 2\u001b[0m     config \u001b[39m=\u001b[39m ConfigurationManager()\n\u001b[0;32m      3\u001b[0m     prepare_callbacks_config \u001b[39m=\u001b[39m config\u001b[39m.\u001b[39mget_prepare_callbacks_config()\n\u001b[0;32m      4\u001b[0m     prepare_callbacks \u001b[39m=\u001b[39m PrepareCallbacks(prepare_callbacks_config)\n",
      "Cell \u001b[1;32mIn [13], line 12\u001b[0m, in \u001b[0;36mConfigurationManager.__init__\u001b[1;34m(self, config_filepath, params_filepath)\u001b[0m\n\u001b[0;32m      7\u001b[0m \u001b[39mdef\u001b[39;00m \u001b[39m__init__\u001b[39m(\n\u001b[0;32m      8\u001b[0m         \u001b[39mself\u001b[39m,\n\u001b[0;32m      9\u001b[0m         config_filepath:Path\u001b[39m=\u001b[39mCONFIG_FILEPATH,\n\u001b[0;32m     10\u001b[0m         params_filepath:Path\u001b[39m=\u001b[39mPARAMS_FILEPATH\n\u001b[0;32m     11\u001b[0m     ) \u001b[39m-\u001b[39m\u001b[39m>\u001b[39m \u001b[39mNone\u001b[39;00m:\n\u001b[1;32m---> 12\u001b[0m     \u001b[39mself\u001b[39m\u001b[39m.\u001b[39mconfig \u001b[39m=\u001b[39m read_yaml_file(config_filepath)\n\u001b[0;32m     13\u001b[0m     make_directories([\u001b[39mself\u001b[39m\u001b[39m.\u001b[39mconfig\u001b[39m.\u001b[39mroot_artifact_dir])\n\u001b[0;32m     14\u001b[0m     \u001b[39mself\u001b[39m\u001b[39m.\u001b[39mparams \u001b[39m=\u001b[39m read_yaml_file(params_filepath)\n",
      "File \u001b[1;32md:\\Full Stack Data Science\\Python Project\\DL\\Current Batch\\Deep_CNN_Classifier\\env\\lib\\site-packages\\ensure\\main.py:849\u001b[0m, in \u001b[0;36mWrappedFunctionReturn.__call__\u001b[1;34m(self, *args, **kwargs)\u001b[0m\n\u001b[0;32m    841\u001b[0m         msg \u001b[39m=\u001b[39m (\n\u001b[0;32m    842\u001b[0m             \u001b[39m\"\u001b[39m\u001b[39mArgument \u001b[39m\u001b[39m{arg}\u001b[39;00m\u001b[39m of type \u001b[39m\u001b[39m{valt}\u001b[39;00m\u001b[39m to \u001b[39m\u001b[39m{f}\u001b[39;00m\u001b[39m \u001b[39m\u001b[39m\"\u001b[39m\n\u001b[0;32m    843\u001b[0m             \u001b[39m\"\u001b[39m\u001b[39mdoes not match annotation type \u001b[39m\u001b[39m{t}\u001b[39;00m\u001b[39m\"\u001b[39m\n\u001b[0;32m    844\u001b[0m         )\n\u001b[0;32m    845\u001b[0m         \u001b[39mraise\u001b[39;00m EnsureError(msg\u001b[39m.\u001b[39mformat(\n\u001b[0;32m    846\u001b[0m             arg\u001b[39m=\u001b[39marg, f\u001b[39m=\u001b[39m\u001b[39mself\u001b[39m\u001b[39m.\u001b[39mf, t\u001b[39m=\u001b[39mtempl, valt\u001b[39m=\u001b[39m\u001b[39mtype\u001b[39m(value)\n\u001b[0;32m    847\u001b[0m         ))\n\u001b[1;32m--> 849\u001b[0m return_val \u001b[39m=\u001b[39m \u001b[39mself\u001b[39;49m\u001b[39m.\u001b[39;49mf(\u001b[39m*\u001b[39;49margs, \u001b[39m*\u001b[39;49m\u001b[39m*\u001b[39;49mkwargs)\n\u001b[0;32m    850\u001b[0m \u001b[39mif\u001b[39;00m \u001b[39mnot\u001b[39;00m \u001b[39misinstance\u001b[39m(return_val, \u001b[39mself\u001b[39m\u001b[39m.\u001b[39mreturn_templ):\n\u001b[0;32m    851\u001b[0m     msg \u001b[39m=\u001b[39m (\n\u001b[0;32m    852\u001b[0m         \u001b[39m\"\u001b[39m\u001b[39mReturn value of \u001b[39m\u001b[39m{f}\u001b[39;00m\u001b[39m of type \u001b[39m\u001b[39m{valt}\u001b[39;00m\u001b[39m \u001b[39m\u001b[39m\"\u001b[39m\n\u001b[0;32m    853\u001b[0m         \u001b[39m\"\u001b[39m\u001b[39mdoes not match annotation type \u001b[39m\u001b[39m{t}\u001b[39;00m\u001b[39m\"\u001b[39m\n\u001b[0;32m    854\u001b[0m     )\n",
      "File \u001b[1;32mD:\\Full Stack Data Science\\Python Project\\DL\\Current Batch\\Deep_CNN_Classifier\\src\\DeepClassifier\\utils\\common.py:43\u001b[0m, in \u001b[0;36mread_yaml_file\u001b[1;34m(filepath)\u001b[0m\n\u001b[0;32m     41\u001b[0m     \u001b[39mraise\u001b[39;00m \u001b[39mValueError\u001b[39;00m(\u001b[39m\"\u001b[39m\u001b[39mYAML file is empty.\u001b[39m\u001b[39m\"\u001b[39m)\n\u001b[0;32m     42\u001b[0m \u001b[39mexcept\u001b[39;00m \u001b[39mException\u001b[39;00m \u001b[39mas\u001b[39;00m e:\n\u001b[1;32m---> 43\u001b[0m     \u001b[39mraise\u001b[39;00m e\n",
      "File \u001b[1;32mD:\\Full Stack Data Science\\Python Project\\DL\\Current Batch\\Deep_CNN_Classifier\\src\\DeepClassifier\\utils\\common.py:36\u001b[0m, in \u001b[0;36mread_yaml_file\u001b[1;34m(filepath)\u001b[0m\n\u001b[0;32m     15\u001b[0m \u001b[39m\"\"\"\u001b[39;00m\n\u001b[0;32m     16\u001b[0m \u001b[39mThis function is responsible for reading the content of YAML file,\u001b[39;00m\n\u001b[0;32m     17\u001b[0m \u001b[39mfor which the path is passed, and returns the content of the file.\u001b[39;00m\n\u001b[1;32m   (...)\u001b[0m\n\u001b[0;32m     33\u001b[0m \u001b[39m    Content of the YAML file .\u001b[39;00m\n\u001b[0;32m     34\u001b[0m \u001b[39m\"\"\"\u001b[39;00m\n\u001b[0;32m     35\u001b[0m \u001b[39mtry\u001b[39;00m:\n\u001b[1;32m---> 36\u001b[0m     \u001b[39mwith\u001b[39;00m \u001b[39mopen\u001b[39;49m(filepath, \u001b[39m\"\u001b[39;49m\u001b[39mr\u001b[39;49m\u001b[39m\"\u001b[39;49m) \u001b[39mas\u001b[39;00m file_obj:\n\u001b[0;32m     37\u001b[0m         file_content \u001b[39m=\u001b[39m yaml\u001b[39m.\u001b[39msafe_load(file_obj)\n\u001b[0;32m     38\u001b[0m         logger\u001b[39m.\u001b[39minfo(\u001b[39mf\u001b[39m\u001b[39m\"\u001b[39m\u001b[39mLoaded the content from \u001b[39m\u001b[39m{\u001b[39;00mfilepath\u001b[39m}\u001b[39;00m\u001b[39m successfully\u001b[39m\u001b[39m\"\u001b[39m)\n",
      "\u001b[1;31mFileNotFoundError\u001b[0m: [Errno 2] No such file or directory: 'configs\\\\config.yaml'"
     ]
    }
   ],
   "source": [
    "try:\n",
    "    config = ConfigurationManager()\n",
    "    prepare_callbacks_config = config.get_prepare_callbacks_config()\n",
    "    prepare_callbacks = PrepareCallbacks(prepare_callbacks_config)\n",
    "    prepare_callbacks.get_callbacks()\n",
    "except Exception as e:\n",
    "    raise e"
   ]
  },
  {
   "cell_type": "code",
   "execution_count": null,
   "metadata": {},
   "outputs": [],
   "source": []
  }
 ],
 "metadata": {
  "kernelspec": {
   "display_name": "Python 3.8.13 (conda)",
   "language": "python",
   "name": "python3"
  },
  "language_info": {
   "codemirror_mode": {
    "name": "ipython",
    "version": 3
   },
   "file_extension": ".py",
   "mimetype": "text/x-python",
   "name": "python",
   "nbconvert_exporter": "python",
   "pygments_lexer": "ipython3",
   "version": "3.8.13"
  },
  "orig_nbformat": 4,
  "vscode": {
   "interpreter": {
    "hash": "ae74435513c2e0bf983a5f843fc5bc6ce365fc4d9d78e83d3e0b648a790172b2"
   }
  }
 },
 "nbformat": 4,
 "nbformat_minor": 2
}
